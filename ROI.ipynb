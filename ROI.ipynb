{
 "cells": [
  {
   "cell_type": "code",
   "execution_count": null,
   "metadata": {},
   "outputs": [],
   "source": [
    "class RentalProperty:\n",
    "    def __init__(self, investment, rent, loss):\n",
    "        self.investment = investment\n",
    "        self.rent = rent\n",
    "        self.loss = loss\n",
    "\n",
    "    def calculate_roi(self):\n",
    "        net_profit = self.rent * 12 - self.loss\n",
    "        roi = (net_profit / self.investment) * 100\n",
    "        return roi\n",
    "\n",
    "def main():\n",
    "    investment = float(input(\"Enter the investment amount: $\"))\n",
    "    rent = float(input(\"Enter the monthly rent: $\"))\n",
    "    loss = float(input(\"Enter the annual loss: $\"))\n",
    "\n",
    "    property1 = RentalProperty(investment, rent, loss)\n",
    "\n",
    "    roi = property1.calculate_roi()\n",
    "    print(f\"\\nThe Return on Investment (ROI) for the rental property is: {roi:.2f}%\")\n",
    "\n",
    "if __name__ == \"__main__\":\n",
    "    main()\n"
   ]
  }
 ],
 "metadata": {
  "kernelspec": {
   "display_name": "Python 3",
   "language": "python",
   "name": "python3"
  },
  "language_info": {
   "codemirror_mode": {
    "name": "ipython",
    "version": 3
   },
   "file_extension": ".py",
   "mimetype": "text/x-python",
   "name": "python",
   "nbconvert_exporter": "python",
   "pygments_lexer": "ipython3",
   "version": "3.11.6"
  }
 },
 "nbformat": 4,
 "nbformat_minor": 2
}
